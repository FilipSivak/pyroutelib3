{
 "cells": [
  {
   "cell_type": "code",
   "execution_count": 3,
   "metadata": {},
   "outputs": [],
   "source": [
    "import pyroutelib3\n",
    "from pathlib import Path"
   ]
  },
  {
   "cell_type": "code",
   "execution_count": 4,
   "metadata": {},
   "outputs": [],
   "source": [
    "CZECH_OSM = Path(r\"..\\longest-route\\czech-republic-latest.osm.pbf\")\n",
    "assert CZECH_OSM.exists()"
   ]
  },
  {
   "cell_type": "code",
   "execution_count": 9,
   "metadata": {},
   "outputs": [],
   "source": [
    "from pyroutelib3 import Router\n",
    "router = Router(\"cycle\", CZECH_OSM, localfileType=\"pbf\")"
   ]
  },
  {
   "cell_type": "code",
   "execution_count": null,
   "metadata": {},
   "outputs": [],
   "source": [
    "JIRKOV_CITY = (50.5064397, 13.4274892)\n",
    "STODULKY = (50.0478800, 14.3074939)\n",
    "\n",
    "start = router.findNode(lat, lon) # Find start and end nodes\n",
    "end = router.findNode(lat, lon)\n",
    "\n",
    "status, route = router.doRoute(start, end) # Find the route - a list of OSM nodes"
   ]
  }
 ],
 "metadata": {
  "kernelspec": {
   "display_name": "py10",
   "language": "python",
   "name": "python3"
  },
  "language_info": {
   "codemirror_mode": {
    "name": "ipython",
    "version": 3
   },
   "file_extension": ".py",
   "mimetype": "text/x-python",
   "name": "python",
   "nbconvert_exporter": "python",
   "pygments_lexer": "ipython3",
   "version": "3.10.11"
  }
 },
 "nbformat": 4,
 "nbformat_minor": 2
}
